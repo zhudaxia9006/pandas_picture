{
 "cells": [
  {
   "cell_type": "markdown",
   "metadata": {},
   "source": [
    "# 数据可视化内容二 "
   ]
  },
  {
   "cell_type": "markdown",
   "metadata": {},
   "source": [
    "## 如何使用pandas绘图"
   ]
  },
  {
   "cell_type": "markdown",
   "metadata": {},
   "source": [
    "## 1.导入包"
   ]
  },
  {
   "cell_type": "code",
   "execution_count": 92,
   "metadata": {},
   "outputs": [],
   "source": [
    "#数据分析包\n",
    "import pandas as pd\n",
    "\n",
    "#导入互联网数据获取包\n",
    "from pandas_datareader import data\n"
   ]
  },
  {
   "cell_type": "markdown",
   "metadata": {},
   "source": [
    "## 2.6家公司（GAFATA）"
   ]
  },
  {
   "cell_type": "code",
   "execution_count": 93,
   "metadata": {},
   "outputs": [],
   "source": [
    "#字典，6家公司的股票\n",
    "gafataDict={'谷歌':'GOOG','亚马逊':'AMZN','Facebook':'FB',\n",
    "            '苹果':'AAPL','阿里巴巴':'BABA','腾讯':'0700.hk'}  \n"
   ]
  },
  {
   "cell_type": "code",
   "execution_count": 94,
   "metadata": {},
   "outputs": [],
   "source": [
    "'''\n",
    "定义函数\n",
    "函数功能：计算股票涨跌幅=（现在股价-买入价格）/买入价格\n",
    "输入参数：column是收盘价这一列的数据\n",
    "返回数据：涨跌幅\n",
    "def 使用时注意缩进，放到最前面，\n",
    "print使用时要缩进4个字符位置\n",
    "'''\n",
    "def change(column):\n",
    "    buyPrice=column[0] #买入价格\n",
    "     #column.size是总共数据条数，序号是从0开始的，所以最后一条数据的序号是总数目-1\n",
    "    curPrice=column[column.size-1] #现在价格 \n",
    "    priceChange=(curPrice-buyPrice)/buyPrice #累计涨跌幅\n",
    "    #判断股票是上涨，还是下跌\n",
    "    if(priceChange>0):\n",
    "        print('股票累计上涨=',priceChange*100,'%')\n",
    "    elif(priceChange==0):\n",
    "        print('股票没有变化',priceChange*100,'%')\n",
    "    else:\n",
    "        print('股票累计下跌',priceChange*100,'%')\n",
    "     #返回数据\n",
    "    return priceChange\n"
   ]
  },
  {
   "cell_type": "markdown",
   "metadata": {},
   "source": [
    "## 3、获取股票数据-阿里巴巴"
   ]
  },
  {
   "cell_type": "code",
   "execution_count": 97,
   "metadata": {},
   "outputs": [],
   "source": [
    "#获取哪段时间范围内的股票数据\n",
    "start_date='2020-01-01'\n",
    "end_date='2021-01-01'\n",
    "#获取阿里巴巴股票数据\n",
    "babaDf=data.get_data_yahoo(gafataDict['阿里巴巴'],start_date,end_date)"
   ]
  },
  {
   "cell_type": "code",
   "execution_count": 98,
   "metadata": {},
   "outputs": [
    {
     "data": {
      "text/html": [
       "<div>\n",
       "<style scoped>\n",
       "    .dataframe tbody tr th:only-of-type {\n",
       "        vertical-align: middle;\n",
       "    }\n",
       "\n",
       "    .dataframe tbody tr th {\n",
       "        vertical-align: top;\n",
       "    }\n",
       "\n",
       "    .dataframe thead th {\n",
       "        text-align: right;\n",
       "    }\n",
       "</style>\n",
       "<table border=\"1\" class=\"dataframe\">\n",
       "  <thead>\n",
       "    <tr style=\"text-align: right;\">\n",
       "      <th></th>\n",
       "      <th>High</th>\n",
       "      <th>Low</th>\n",
       "      <th>Open</th>\n",
       "      <th>Close</th>\n",
       "      <th>Volume</th>\n",
       "      <th>Adj Close</th>\n",
       "    </tr>\n",
       "    <tr>\n",
       "      <th>Date</th>\n",
       "      <th></th>\n",
       "      <th></th>\n",
       "      <th></th>\n",
       "      <th></th>\n",
       "      <th></th>\n",
       "      <th></th>\n",
       "    </tr>\n",
       "  </thead>\n",
       "  <tbody>\n",
       "    <tr>\n",
       "      <th>2019-12-31</th>\n",
       "      <td>213.639999</td>\n",
       "      <td>210.729996</td>\n",
       "      <td>212.000000</td>\n",
       "      <td>212.100006</td>\n",
       "      <td>6773600</td>\n",
       "      <td>212.100006</td>\n",
       "    </tr>\n",
       "    <tr>\n",
       "      <th>2020-01-02</th>\n",
       "      <td>219.979996</td>\n",
       "      <td>216.539993</td>\n",
       "      <td>216.600006</td>\n",
       "      <td>219.770004</td>\n",
       "      <td>15873500</td>\n",
       "      <td>219.770004</td>\n",
       "    </tr>\n",
       "    <tr>\n",
       "      <th>2020-01-03</th>\n",
       "      <td>218.203003</td>\n",
       "      <td>216.009995</td>\n",
       "      <td>216.350006</td>\n",
       "      <td>217.000000</td>\n",
       "      <td>8604500</td>\n",
       "      <td>217.000000</td>\n",
       "    </tr>\n",
       "    <tr>\n",
       "      <th>2020-01-06</th>\n",
       "      <td>217.160004</td>\n",
       "      <td>214.089996</td>\n",
       "      <td>214.889999</td>\n",
       "      <td>216.639999</td>\n",
       "      <td>11885500</td>\n",
       "      <td>216.639999</td>\n",
       "    </tr>\n",
       "    <tr>\n",
       "      <th>2020-01-07</th>\n",
       "      <td>218.940002</td>\n",
       "      <td>216.690002</td>\n",
       "      <td>217.639999</td>\n",
       "      <td>217.630005</td>\n",
       "      <td>9388000</td>\n",
       "      <td>217.630005</td>\n",
       "    </tr>\n",
       "  </tbody>\n",
       "</table>\n",
       "</div>"
      ],
      "text/plain": [
       "                  High         Low        Open       Close    Volume  \\\n",
       "Date                                                                   \n",
       "2019-12-31  213.639999  210.729996  212.000000  212.100006   6773600   \n",
       "2020-01-02  219.979996  216.539993  216.600006  219.770004  15873500   \n",
       "2020-01-03  218.203003  216.009995  216.350006  217.000000   8604500   \n",
       "2020-01-06  217.160004  214.089996  214.889999  216.639999  11885500   \n",
       "2020-01-07  218.940002  216.690002  217.639999  217.630005   9388000   \n",
       "\n",
       "             Adj Close  \n",
       "Date                    \n",
       "2019-12-31  212.100006  \n",
       "2020-01-02  219.770004  \n",
       "2020-01-03  217.000000  \n",
       "2020-01-06  216.639999  \n",
       "2020-01-07  217.630005  "
      ]
     },
     "execution_count": 98,
     "metadata": {},
     "output_type": "execute_result"
    }
   ],
   "source": [
    "babaDf.head()"
   ]
  },
  {
   "cell_type": "code",
   "execution_count": 99,
   "metadata": {},
   "outputs": [
    {
     "data": {
      "text/plain": [
       "DatetimeIndex(['2019-12-31', '2020-01-02', '2020-01-03', '2020-01-06',\n",
       "               '2020-01-07', '2020-01-08', '2020-01-09', '2020-01-10',\n",
       "               '2020-01-13', '2020-01-14',\n",
       "               ...\n",
       "               '2020-12-17', '2020-12-18', '2020-12-21', '2020-12-22',\n",
       "               '2020-12-23', '2020-12-24', '2020-12-28', '2020-12-29',\n",
       "               '2020-12-30', '2020-12-31'],\n",
       "              dtype='datetime64[ns]', name='Date', length=254, freq=None)"
      ]
     },
     "execution_count": 99,
     "metadata": {},
     "output_type": "execute_result"
    }
   ],
   "source": [
    "#股票数据的行索引是时间序列类型，记录每天的股票信息\n",
    "babaDf.index"
   ]
  },
  {
   "cell_type": "code",
   "execution_count": 100,
   "metadata": {},
   "outputs": [
    {
     "name": "stdout",
     "output_type": "stream",
     "text": [
      "<class 'pandas.core.frame.DataFrame'>\n",
      "DatetimeIndex: 254 entries, 2019-12-31 to 2020-12-31\n",
      "Data columns (total 6 columns):\n",
      " #   Column     Non-Null Count  Dtype  \n",
      "---  ------     --------------  -----  \n",
      " 0   High       254 non-null    float64\n",
      " 1   Low        254 non-null    float64\n",
      " 2   Open       254 non-null    float64\n",
      " 3   Close      254 non-null    float64\n",
      " 4   Volume     254 non-null    int64  \n",
      " 5   Adj Close  254 non-null    float64\n",
      "dtypes: float64(5), int64(1)\n",
      "memory usage: 13.9 KB\n"
     ]
    }
   ],
   "source": [
    "#信息查看\n",
    "babaDf.info()"
   ]
  },
  {
   "cell_type": "code",
   "execution_count": 24,
   "metadata": {},
   "outputs": [
    {
     "data": {
      "text/plain": [
       "(254, 6)"
      ]
     },
     "execution_count": 24,
     "metadata": {},
     "output_type": "execute_result"
    }
   ],
   "source": [
    "#查看类型大小\n",
    "babaDf.shape"
   ]
  },
  {
   "cell_type": "code",
   "execution_count": 25,
   "metadata": {},
   "outputs": [
    {
     "data": {
      "text/plain": [
       "High         float64\n",
       "Low          float64\n",
       "Open         float64\n",
       "Close        float64\n",
       "Volume         int64\n",
       "Adj Close    float64\n",
       "dtype: object"
      ]
     },
     "execution_count": 25,
     "metadata": {},
     "output_type": "execute_result"
    }
   ],
   "source": [
    "babaDf.dtypes"
   ]
  },
  {
   "cell_type": "code",
   "execution_count": 26,
   "metadata": {},
   "outputs": [
    {
     "data": {
      "text/html": [
       "<div>\n",
       "<style scoped>\n",
       "    .dataframe tbody tr th:only-of-type {\n",
       "        vertical-align: middle;\n",
       "    }\n",
       "\n",
       "    .dataframe tbody tr th {\n",
       "        vertical-align: top;\n",
       "    }\n",
       "\n",
       "    .dataframe thead th {\n",
       "        text-align: right;\n",
       "    }\n",
       "</style>\n",
       "<table border=\"1\" class=\"dataframe\">\n",
       "  <thead>\n",
       "    <tr style=\"text-align: right;\">\n",
       "      <th></th>\n",
       "      <th>High</th>\n",
       "      <th>Low</th>\n",
       "      <th>Open</th>\n",
       "      <th>Close</th>\n",
       "      <th>Volume</th>\n",
       "      <th>Adj Close</th>\n",
       "    </tr>\n",
       "  </thead>\n",
       "  <tbody>\n",
       "    <tr>\n",
       "      <th>count</th>\n",
       "      <td>254.000000</td>\n",
       "      <td>254.000000</td>\n",
       "      <td>254.000000</td>\n",
       "      <td>254.000000</td>\n",
       "      <td>2.540000e+02</td>\n",
       "      <td>254.000000</td>\n",
       "    </tr>\n",
       "    <tr>\n",
       "      <th>mean</th>\n",
       "      <td>242.689855</td>\n",
       "      <td>236.329398</td>\n",
       "      <td>239.786449</td>\n",
       "      <td>239.774410</td>\n",
       "      <td>1.834307e+07</td>\n",
       "      <td>239.774410</td>\n",
       "    </tr>\n",
       "    <tr>\n",
       "      <th>std</th>\n",
       "      <td>36.051832</td>\n",
       "      <td>35.364960</td>\n",
       "      <td>35.876594</td>\n",
       "      <td>35.795581</td>\n",
       "      <td>1.231134e+07</td>\n",
       "      <td>35.795581</td>\n",
       "    </tr>\n",
       "    <tr>\n",
       "      <th>min</th>\n",
       "      <td>178.500000</td>\n",
       "      <td>169.949997</td>\n",
       "      <td>175.270004</td>\n",
       "      <td>176.339996</td>\n",
       "      <td>6.231400e+06</td>\n",
       "      <td>176.339996</td>\n",
       "    </tr>\n",
       "    <tr>\n",
       "      <th>25%</th>\n",
       "      <td>212.794998</td>\n",
       "      <td>207.544998</td>\n",
       "      <td>209.877495</td>\n",
       "      <td>210.417496</td>\n",
       "      <td>1.218322e+07</td>\n",
       "      <td>210.417496</td>\n",
       "    </tr>\n",
       "    <tr>\n",
       "      <th>50%</th>\n",
       "      <td>230.200005</td>\n",
       "      <td>224.705002</td>\n",
       "      <td>228.267502</td>\n",
       "      <td>226.959999</td>\n",
       "      <td>1.587965e+07</td>\n",
       "      <td>226.959999</td>\n",
       "    </tr>\n",
       "    <tr>\n",
       "      <th>75%</th>\n",
       "      <td>270.642509</td>\n",
       "      <td>263.085007</td>\n",
       "      <td>267.095001</td>\n",
       "      <td>266.017494</td>\n",
       "      <td>2.027810e+07</td>\n",
       "      <td>266.017494</td>\n",
       "    </tr>\n",
       "    <tr>\n",
       "      <th>max</th>\n",
       "      <td>319.320007</td>\n",
       "      <td>308.910004</td>\n",
       "      <td>313.500000</td>\n",
       "      <td>317.140015</td>\n",
       "      <td>1.418300e+08</td>\n",
       "      <td>317.140015</td>\n",
       "    </tr>\n",
       "  </tbody>\n",
       "</table>\n",
       "</div>"
      ],
      "text/plain": [
       "             High         Low        Open       Close        Volume  \\\n",
       "count  254.000000  254.000000  254.000000  254.000000  2.540000e+02   \n",
       "mean   242.689855  236.329398  239.786449  239.774410  1.834307e+07   \n",
       "std     36.051832   35.364960   35.876594   35.795581  1.231134e+07   \n",
       "min    178.500000  169.949997  175.270004  176.339996  6.231400e+06   \n",
       "25%    212.794998  207.544998  209.877495  210.417496  1.218322e+07   \n",
       "50%    230.200005  224.705002  228.267502  226.959999  1.587965e+07   \n",
       "75%    270.642509  263.085007  267.095001  266.017494  2.027810e+07   \n",
       "max    319.320007  308.910004  313.500000  317.140015  1.418300e+08   \n",
       "\n",
       "        Adj Close  \n",
       "count  254.000000  \n",
       "mean   239.774410  \n",
       "std     35.795581  \n",
       "min    176.339996  \n",
       "25%    210.417496  \n",
       "50%    226.959999  \n",
       "75%    266.017494  \n",
       "max    317.140015  "
      ]
     },
     "execution_count": 26,
     "metadata": {},
     "output_type": "execute_result"
    }
   ],
   "source": [
    "#查看数据统计信息\n",
    "babaDf.describe()"
   ]
  },
  {
   "cell_type": "code",
   "execution_count": 27,
   "metadata": {},
   "outputs": [
    {
     "name": "stdout",
     "output_type": "stream",
     "text": [
      "股票累计上涨= 9.726538911062054 %\n"
     ]
    }
   ],
   "source": [
    "'''\n",
    "累计涨幅\n",
    "'''\n",
    "#获取收盘价Close这一列的数据 \n",
    "closeCol=babaDf['Close']\n",
    "#调用函数，获取涨跌幅\n",
    "babaChange=change(closeCol)"
   ]
  },
  {
   "cell_type": "markdown",
   "metadata": {},
   "source": [
    "## 谷歌"
   ]
  },
  {
   "cell_type": "code",
   "execution_count": 28,
   "metadata": {},
   "outputs": [
    {
     "data": {
      "text/html": [
       "<div>\n",
       "<style scoped>\n",
       "    .dataframe tbody tr th:only-of-type {\n",
       "        vertical-align: middle;\n",
       "    }\n",
       "\n",
       "    .dataframe tbody tr th {\n",
       "        vertical-align: top;\n",
       "    }\n",
       "\n",
       "    .dataframe thead th {\n",
       "        text-align: right;\n",
       "    }\n",
       "</style>\n",
       "<table border=\"1\" class=\"dataframe\">\n",
       "  <thead>\n",
       "    <tr style=\"text-align: right;\">\n",
       "      <th></th>\n",
       "      <th>High</th>\n",
       "      <th>Low</th>\n",
       "      <th>Open</th>\n",
       "      <th>Close</th>\n",
       "      <th>Volume</th>\n",
       "      <th>Adj Close</th>\n",
       "    </tr>\n",
       "    <tr>\n",
       "      <th>Date</th>\n",
       "      <th></th>\n",
       "      <th></th>\n",
       "      <th></th>\n",
       "      <th></th>\n",
       "      <th></th>\n",
       "      <th></th>\n",
       "    </tr>\n",
       "  </thead>\n",
       "  <tbody>\n",
       "    <tr>\n",
       "      <th>2019-12-31</th>\n",
       "      <td>1338.000000</td>\n",
       "      <td>1329.084961</td>\n",
       "      <td>1330.109985</td>\n",
       "      <td>1337.020020</td>\n",
       "      <td>961800</td>\n",
       "      <td>1337.020020</td>\n",
       "    </tr>\n",
       "    <tr>\n",
       "      <th>2020-01-02</th>\n",
       "      <td>1368.140015</td>\n",
       "      <td>1341.550049</td>\n",
       "      <td>1341.550049</td>\n",
       "      <td>1367.369995</td>\n",
       "      <td>1406600</td>\n",
       "      <td>1367.369995</td>\n",
       "    </tr>\n",
       "    <tr>\n",
       "      <th>2020-01-03</th>\n",
       "      <td>1372.500000</td>\n",
       "      <td>1345.543945</td>\n",
       "      <td>1347.859985</td>\n",
       "      <td>1360.660034</td>\n",
       "      <td>1186400</td>\n",
       "      <td>1360.660034</td>\n",
       "    </tr>\n",
       "    <tr>\n",
       "      <th>2020-01-06</th>\n",
       "      <td>1396.500000</td>\n",
       "      <td>1350.000000</td>\n",
       "      <td>1350.000000</td>\n",
       "      <td>1394.209961</td>\n",
       "      <td>1732300</td>\n",
       "      <td>1394.209961</td>\n",
       "    </tr>\n",
       "    <tr>\n",
       "      <th>2020-01-07</th>\n",
       "      <td>1402.989990</td>\n",
       "      <td>1390.380005</td>\n",
       "      <td>1397.939941</td>\n",
       "      <td>1393.339966</td>\n",
       "      <td>1502700</td>\n",
       "      <td>1393.339966</td>\n",
       "    </tr>\n",
       "  </tbody>\n",
       "</table>\n",
       "</div>"
      ],
      "text/plain": [
       "                   High          Low         Open        Close   Volume  \\\n",
       "Date                                                                      \n",
       "2019-12-31  1338.000000  1329.084961  1330.109985  1337.020020   961800   \n",
       "2020-01-02  1368.140015  1341.550049  1341.550049  1367.369995  1406600   \n",
       "2020-01-03  1372.500000  1345.543945  1347.859985  1360.660034  1186400   \n",
       "2020-01-06  1396.500000  1350.000000  1350.000000  1394.209961  1732300   \n",
       "2020-01-07  1402.989990  1390.380005  1397.939941  1393.339966  1502700   \n",
       "\n",
       "              Adj Close  \n",
       "Date                     \n",
       "2019-12-31  1337.020020  \n",
       "2020-01-02  1367.369995  \n",
       "2020-01-03  1360.660034  \n",
       "2020-01-06  1394.209961  \n",
       "2020-01-07  1393.339966  "
      ]
     },
     "execution_count": 28,
     "metadata": {},
     "output_type": "execute_result"
    }
   ],
   "source": [
    "#获取谷歌股票数据\n",
    "googDf=data.get_data_yahoo(gafataDict['谷歌'],start_date,end_date)\n",
    "googDf.head()"
   ]
  },
  {
   "cell_type": "code",
   "execution_count": 29,
   "metadata": {},
   "outputs": [
    {
     "name": "stdout",
     "output_type": "stream",
     "text": [
      "股票累计上涨= 31.02870408006378 %\n"
     ]
    }
   ],
   "source": [
    "#累计涨幅\n",
    "#获取收盘价Close这一列的数据 \n",
    "closeCol=googDf['Close']\n",
    "#调用函数，获取涨跌幅\n",
    "googChange=change(closeCol)"
   ]
  },
  {
   "cell_type": "markdown",
   "metadata": {},
   "source": [
    "## 亚马逊"
   ]
  },
  {
   "cell_type": "code",
   "execution_count": 30,
   "metadata": {},
   "outputs": [
    {
     "data": {
      "text/html": [
       "<div>\n",
       "<style scoped>\n",
       "    .dataframe tbody tr th:only-of-type {\n",
       "        vertical-align: middle;\n",
       "    }\n",
       "\n",
       "    .dataframe tbody tr th {\n",
       "        vertical-align: top;\n",
       "    }\n",
       "\n",
       "    .dataframe thead th {\n",
       "        text-align: right;\n",
       "    }\n",
       "</style>\n",
       "<table border=\"1\" class=\"dataframe\">\n",
       "  <thead>\n",
       "    <tr style=\"text-align: right;\">\n",
       "      <th></th>\n",
       "      <th>High</th>\n",
       "      <th>Low</th>\n",
       "      <th>Open</th>\n",
       "      <th>Close</th>\n",
       "      <th>Volume</th>\n",
       "      <th>Adj Close</th>\n",
       "    </tr>\n",
       "    <tr>\n",
       "      <th>Date</th>\n",
       "      <th></th>\n",
       "      <th></th>\n",
       "      <th></th>\n",
       "      <th></th>\n",
       "      <th></th>\n",
       "      <th></th>\n",
       "    </tr>\n",
       "  </thead>\n",
       "  <tbody>\n",
       "    <tr>\n",
       "      <th>2019-12-31</th>\n",
       "      <td>1853.260010</td>\n",
       "      <td>1832.229980</td>\n",
       "      <td>1842.0</td>\n",
       "      <td>1847.839966</td>\n",
       "      <td>2506500</td>\n",
       "      <td>1847.839966</td>\n",
       "    </tr>\n",
       "    <tr>\n",
       "      <th>2020-01-02</th>\n",
       "      <td>1898.010010</td>\n",
       "      <td>1864.150024</td>\n",
       "      <td>1875.0</td>\n",
       "      <td>1898.010010</td>\n",
       "      <td>4029000</td>\n",
       "      <td>1898.010010</td>\n",
       "    </tr>\n",
       "    <tr>\n",
       "      <th>2020-01-03</th>\n",
       "      <td>1886.199951</td>\n",
       "      <td>1864.500000</td>\n",
       "      <td>1864.5</td>\n",
       "      <td>1874.969971</td>\n",
       "      <td>3764400</td>\n",
       "      <td>1874.969971</td>\n",
       "    </tr>\n",
       "    <tr>\n",
       "      <th>2020-01-06</th>\n",
       "      <td>1903.689941</td>\n",
       "      <td>1860.000000</td>\n",
       "      <td>1860.0</td>\n",
       "      <td>1902.880005</td>\n",
       "      <td>4061800</td>\n",
       "      <td>1902.880005</td>\n",
       "    </tr>\n",
       "    <tr>\n",
       "      <th>2020-01-07</th>\n",
       "      <td>1913.890015</td>\n",
       "      <td>1892.040039</td>\n",
       "      <td>1904.5</td>\n",
       "      <td>1906.859985</td>\n",
       "      <td>4044900</td>\n",
       "      <td>1906.859985</td>\n",
       "    </tr>\n",
       "  </tbody>\n",
       "</table>\n",
       "</div>"
      ],
      "text/plain": [
       "                   High          Low    Open        Close   Volume  \\\n",
       "Date                                                                 \n",
       "2019-12-31  1853.260010  1832.229980  1842.0  1847.839966  2506500   \n",
       "2020-01-02  1898.010010  1864.150024  1875.0  1898.010010  4029000   \n",
       "2020-01-03  1886.199951  1864.500000  1864.5  1874.969971  3764400   \n",
       "2020-01-06  1903.689941  1860.000000  1860.0  1902.880005  4061800   \n",
       "2020-01-07  1913.890015  1892.040039  1904.5  1906.859985  4044900   \n",
       "\n",
       "              Adj Close  \n",
       "Date                     \n",
       "2019-12-31  1847.839966  \n",
       "2020-01-02  1898.010010  \n",
       "2020-01-03  1874.969971  \n",
       "2020-01-06  1902.880005  \n",
       "2020-01-07  1906.859985  "
      ]
     },
     "execution_count": 30,
     "metadata": {},
     "output_type": "execute_result"
    }
   ],
   "source": [
    "amazDf=data.get_data_yahoo(gafataDict['亚马逊'],start_date,end_date)\n",
    "amazDf.head()"
   ]
  },
  {
   "cell_type": "code",
   "execution_count": 31,
   "metadata": {},
   "outputs": [
    {
     "name": "stdout",
     "output_type": "stream",
     "text": [
      "股票累计上涨= 76.25606069163973 %\n"
     ]
    }
   ],
   "source": [
    "#累计涨幅\n",
    "closeCol=amazDf['Close']\n",
    "amazChange=change(closeCol)"
   ]
  },
  {
   "cell_type": "markdown",
   "metadata": {},
   "source": [
    "## Facebook"
   ]
  },
  {
   "cell_type": "code",
   "execution_count": 33,
   "metadata": {},
   "outputs": [
    {
     "data": {
      "text/html": [
       "<div>\n",
       "<style scoped>\n",
       "    .dataframe tbody tr th:only-of-type {\n",
       "        vertical-align: middle;\n",
       "    }\n",
       "\n",
       "    .dataframe tbody tr th {\n",
       "        vertical-align: top;\n",
       "    }\n",
       "\n",
       "    .dataframe thead th {\n",
       "        text-align: right;\n",
       "    }\n",
       "</style>\n",
       "<table border=\"1\" class=\"dataframe\">\n",
       "  <thead>\n",
       "    <tr style=\"text-align: right;\">\n",
       "      <th></th>\n",
       "      <th>High</th>\n",
       "      <th>Low</th>\n",
       "      <th>Open</th>\n",
       "      <th>Close</th>\n",
       "      <th>Volume</th>\n",
       "      <th>Adj Close</th>\n",
       "    </tr>\n",
       "    <tr>\n",
       "      <th>Date</th>\n",
       "      <th></th>\n",
       "      <th></th>\n",
       "      <th></th>\n",
       "      <th></th>\n",
       "      <th></th>\n",
       "      <th></th>\n",
       "    </tr>\n",
       "  </thead>\n",
       "  <tbody>\n",
       "    <tr>\n",
       "      <th>2019-12-31</th>\n",
       "      <td>205.559998</td>\n",
       "      <td>203.600006</td>\n",
       "      <td>204.000000</td>\n",
       "      <td>205.250000</td>\n",
       "      <td>8953500</td>\n",
       "      <td>205.250000</td>\n",
       "    </tr>\n",
       "    <tr>\n",
       "      <th>2020-01-02</th>\n",
       "      <td>209.789993</td>\n",
       "      <td>206.270004</td>\n",
       "      <td>206.750000</td>\n",
       "      <td>209.779999</td>\n",
       "      <td>12077100</td>\n",
       "      <td>209.779999</td>\n",
       "    </tr>\n",
       "    <tr>\n",
       "      <th>2020-01-03</th>\n",
       "      <td>210.399994</td>\n",
       "      <td>206.949997</td>\n",
       "      <td>207.210007</td>\n",
       "      <td>208.669998</td>\n",
       "      <td>11188400</td>\n",
       "      <td>208.669998</td>\n",
       "    </tr>\n",
       "    <tr>\n",
       "      <th>2020-01-06</th>\n",
       "      <td>212.779999</td>\n",
       "      <td>206.520004</td>\n",
       "      <td>206.699997</td>\n",
       "      <td>212.600006</td>\n",
       "      <td>17058900</td>\n",
       "      <td>212.600006</td>\n",
       "    </tr>\n",
       "    <tr>\n",
       "      <th>2020-01-07</th>\n",
       "      <td>214.580002</td>\n",
       "      <td>211.750000</td>\n",
       "      <td>212.820007</td>\n",
       "      <td>213.059998</td>\n",
       "      <td>14912400</td>\n",
       "      <td>213.059998</td>\n",
       "    </tr>\n",
       "  </tbody>\n",
       "</table>\n",
       "</div>"
      ],
      "text/plain": [
       "                  High         Low        Open       Close    Volume  \\\n",
       "Date                                                                   \n",
       "2019-12-31  205.559998  203.600006  204.000000  205.250000   8953500   \n",
       "2020-01-02  209.789993  206.270004  206.750000  209.779999  12077100   \n",
       "2020-01-03  210.399994  206.949997  207.210007  208.669998  11188400   \n",
       "2020-01-06  212.779999  206.520004  206.699997  212.600006  17058900   \n",
       "2020-01-07  214.580002  211.750000  212.820007  213.059998  14912400   \n",
       "\n",
       "             Adj Close  \n",
       "Date                    \n",
       "2019-12-31  205.250000  \n",
       "2020-01-02  209.779999  \n",
       "2020-01-03  208.669998  \n",
       "2020-01-06  212.600006  \n",
       "2020-01-07  213.059998  "
      ]
     },
     "execution_count": 33,
     "metadata": {},
     "output_type": "execute_result"
    }
   ],
   "source": [
    "FbDf=data.get_data_yahoo(gafataDict['Facebook'],start_date,end_date)\n",
    "FbDf.head()"
   ]
  },
  {
   "cell_type": "code",
   "execution_count": 34,
   "metadata": {},
   "outputs": [
    {
     "name": "stdout",
     "output_type": "stream",
     "text": [
      "股票累计上涨= 33.0864816867768 %\n"
     ]
    }
   ],
   "source": [
    "#累计股票\n",
    "closeCol=FbDf['Close']\n",
    "FbChange=change(closeCol)"
   ]
  },
  {
   "cell_type": "markdown",
   "metadata": {},
   "source": [
    "## 苹果"
   ]
  },
  {
   "cell_type": "code",
   "execution_count": 36,
   "metadata": {},
   "outputs": [
    {
     "data": {
      "text/html": [
       "<div>\n",
       "<style scoped>\n",
       "    .dataframe tbody tr th:only-of-type {\n",
       "        vertical-align: middle;\n",
       "    }\n",
       "\n",
       "    .dataframe tbody tr th {\n",
       "        vertical-align: top;\n",
       "    }\n",
       "\n",
       "    .dataframe thead th {\n",
       "        text-align: right;\n",
       "    }\n",
       "</style>\n",
       "<table border=\"1\" class=\"dataframe\">\n",
       "  <thead>\n",
       "    <tr style=\"text-align: right;\">\n",
       "      <th></th>\n",
       "      <th>High</th>\n",
       "      <th>Low</th>\n",
       "      <th>Open</th>\n",
       "      <th>Close</th>\n",
       "      <th>Volume</th>\n",
       "      <th>Adj Close</th>\n",
       "    </tr>\n",
       "    <tr>\n",
       "      <th>Date</th>\n",
       "      <th></th>\n",
       "      <th></th>\n",
       "      <th></th>\n",
       "      <th></th>\n",
       "      <th></th>\n",
       "      <th></th>\n",
       "    </tr>\n",
       "  </thead>\n",
       "  <tbody>\n",
       "    <tr>\n",
       "      <th>2019-12-31</th>\n",
       "      <td>73.419998</td>\n",
       "      <td>72.379997</td>\n",
       "      <td>72.482498</td>\n",
       "      <td>73.412498</td>\n",
       "      <td>100805600.0</td>\n",
       "      <td>72.552094</td>\n",
       "    </tr>\n",
       "    <tr>\n",
       "      <th>2020-01-02</th>\n",
       "      <td>75.150002</td>\n",
       "      <td>73.797501</td>\n",
       "      <td>74.059998</td>\n",
       "      <td>75.087502</td>\n",
       "      <td>135480400.0</td>\n",
       "      <td>74.207466</td>\n",
       "    </tr>\n",
       "    <tr>\n",
       "      <th>2020-01-03</th>\n",
       "      <td>75.144997</td>\n",
       "      <td>74.125000</td>\n",
       "      <td>74.287498</td>\n",
       "      <td>74.357498</td>\n",
       "      <td>146322800.0</td>\n",
       "      <td>73.486023</td>\n",
       "    </tr>\n",
       "    <tr>\n",
       "      <th>2020-01-06</th>\n",
       "      <td>74.989998</td>\n",
       "      <td>73.187500</td>\n",
       "      <td>73.447502</td>\n",
       "      <td>74.949997</td>\n",
       "      <td>118387200.0</td>\n",
       "      <td>74.071579</td>\n",
       "    </tr>\n",
       "    <tr>\n",
       "      <th>2020-01-07</th>\n",
       "      <td>75.224998</td>\n",
       "      <td>74.370003</td>\n",
       "      <td>74.959999</td>\n",
       "      <td>74.597504</td>\n",
       "      <td>108872000.0</td>\n",
       "      <td>73.723213</td>\n",
       "    </tr>\n",
       "  </tbody>\n",
       "</table>\n",
       "</div>"
      ],
      "text/plain": [
       "                 High        Low       Open      Close       Volume  Adj Close\n",
       "Date                                                                          \n",
       "2019-12-31  73.419998  72.379997  72.482498  73.412498  100805600.0  72.552094\n",
       "2020-01-02  75.150002  73.797501  74.059998  75.087502  135480400.0  74.207466\n",
       "2020-01-03  75.144997  74.125000  74.287498  74.357498  146322800.0  73.486023\n",
       "2020-01-06  74.989998  73.187500  73.447502  74.949997  118387200.0  74.071579\n",
       "2020-01-07  75.224998  74.370003  74.959999  74.597504  108872000.0  73.723213"
      ]
     },
     "execution_count": 36,
     "metadata": {},
     "output_type": "execute_result"
    }
   ],
   "source": [
    "AppDf=data.get_data_yahoo(gafataDict['苹果'],start_date,end_date)\n",
    "AppDf.head()"
   ]
  },
  {
   "cell_type": "code",
   "execution_count": 37,
   "metadata": {},
   "outputs": [
    {
     "name": "stdout",
     "output_type": "stream",
     "text": [
      "股票累计上涨= 80.74579288182282 %\n"
     ]
    }
   ],
   "source": [
    "#累计涨幅\n",
    "closeCol=AppDf['Close']\n",
    "AppChange=change(closeCol)"
   ]
  },
  {
   "cell_type": "markdown",
   "metadata": {},
   "source": [
    "## 腾讯"
   ]
  },
  {
   "cell_type": "code",
   "execution_count": 49,
   "metadata": {},
   "outputs": [
    {
     "data": {
      "text/html": [
       "<div>\n",
       "<style scoped>\n",
       "    .dataframe tbody tr th:only-of-type {\n",
       "        vertical-align: middle;\n",
       "    }\n",
       "\n",
       "    .dataframe tbody tr th {\n",
       "        vertical-align: top;\n",
       "    }\n",
       "\n",
       "    .dataframe thead th {\n",
       "        text-align: right;\n",
       "    }\n",
       "</style>\n",
       "<table border=\"1\" class=\"dataframe\">\n",
       "  <thead>\n",
       "    <tr style=\"text-align: right;\">\n",
       "      <th></th>\n",
       "      <th>High</th>\n",
       "      <th>Low</th>\n",
       "      <th>Open</th>\n",
       "      <th>Close</th>\n",
       "      <th>Volume</th>\n",
       "      <th>Adj Close</th>\n",
       "    </tr>\n",
       "    <tr>\n",
       "      <th>Date</th>\n",
       "      <th></th>\n",
       "      <th></th>\n",
       "      <th></th>\n",
       "      <th></th>\n",
       "      <th></th>\n",
       "      <th></th>\n",
       "    </tr>\n",
       "  </thead>\n",
       "  <tbody>\n",
       "    <tr>\n",
       "      <th>2020-01-02</th>\n",
       "      <td>384.799988</td>\n",
       "      <td>375.600006</td>\n",
       "      <td>375.799988</td>\n",
       "      <td>382.399994</td>\n",
       "      <td>13991006.0</td>\n",
       "      <td>380.297546</td>\n",
       "    </tr>\n",
       "    <tr>\n",
       "      <th>2020-01-03</th>\n",
       "      <td>390.000000</td>\n",
       "      <td>381.200012</td>\n",
       "      <td>388.000000</td>\n",
       "      <td>383.000000</td>\n",
       "      <td>15313106.0</td>\n",
       "      <td>380.894257</td>\n",
       "    </tr>\n",
       "    <tr>\n",
       "      <th>2020-01-06</th>\n",
       "      <td>380.000000</td>\n",
       "      <td>375.399994</td>\n",
       "      <td>380.000000</td>\n",
       "      <td>377.399994</td>\n",
       "      <td>12123194.0</td>\n",
       "      <td>375.325012</td>\n",
       "    </tr>\n",
       "    <tr>\n",
       "      <th>2020-01-07</th>\n",
       "      <td>387.799988</td>\n",
       "      <td>380.000000</td>\n",
       "      <td>380.799988</td>\n",
       "      <td>385.600006</td>\n",
       "      <td>17686346.0</td>\n",
       "      <td>383.479980</td>\n",
       "    </tr>\n",
       "    <tr>\n",
       "      <th>2020-01-08</th>\n",
       "      <td>385.799988</td>\n",
       "      <td>379.200012</td>\n",
       "      <td>382.399994</td>\n",
       "      <td>382.000000</td>\n",
       "      <td>15529153.0</td>\n",
       "      <td>379.899750</td>\n",
       "    </tr>\n",
       "  </tbody>\n",
       "</table>\n",
       "</div>"
      ],
      "text/plain": [
       "                  High         Low        Open       Close      Volume  \\\n",
       "Date                                                                     \n",
       "2020-01-02  384.799988  375.600006  375.799988  382.399994  13991006.0   \n",
       "2020-01-03  390.000000  381.200012  388.000000  383.000000  15313106.0   \n",
       "2020-01-06  380.000000  375.399994  380.000000  377.399994  12123194.0   \n",
       "2020-01-07  387.799988  380.000000  380.799988  385.600006  17686346.0   \n",
       "2020-01-08  385.799988  379.200012  382.399994  382.000000  15529153.0   \n",
       "\n",
       "             Adj Close  \n",
       "Date                    \n",
       "2020-01-02  380.297546  \n",
       "2020-01-03  380.894257  \n",
       "2020-01-06  375.325012  \n",
       "2020-01-07  383.479980  \n",
       "2020-01-08  379.899750  "
      ]
     },
     "execution_count": 49,
     "metadata": {},
     "output_type": "execute_result"
    }
   ],
   "source": [
    "#txDf=data.get_data_yahoo(gafataDict['腾讯'],start_date,end_date)\n",
    "txDf=data.get_data_yahoo(gafataDict['腾讯'],start_date,end_date)\n",
    "txDf.head()"
   ]
  },
  {
   "cell_type": "code",
   "execution_count": 50,
   "metadata": {},
   "outputs": [
    {
     "data": {
      "text/html": [
       "<div>\n",
       "<style scoped>\n",
       "    .dataframe tbody tr th:only-of-type {\n",
       "        vertical-align: middle;\n",
       "    }\n",
       "\n",
       "    .dataframe tbody tr th {\n",
       "        vertical-align: top;\n",
       "    }\n",
       "\n",
       "    .dataframe thead th {\n",
       "        text-align: right;\n",
       "    }\n",
       "</style>\n",
       "<table border=\"1\" class=\"dataframe\">\n",
       "  <thead>\n",
       "    <tr style=\"text-align: right;\">\n",
       "      <th></th>\n",
       "      <th>High</th>\n",
       "      <th>Low</th>\n",
       "      <th>Open</th>\n",
       "      <th>Close</th>\n",
       "      <th>Volume</th>\n",
       "      <th>Adj Close</th>\n",
       "      <th>Close_dollar</th>\n",
       "    </tr>\n",
       "    <tr>\n",
       "      <th>Date</th>\n",
       "      <th></th>\n",
       "      <th></th>\n",
       "      <th></th>\n",
       "      <th></th>\n",
       "      <th></th>\n",
       "      <th></th>\n",
       "      <th></th>\n",
       "    </tr>\n",
       "  </thead>\n",
       "  <tbody>\n",
       "    <tr>\n",
       "      <th>2020-01-02</th>\n",
       "      <td>384.799988</td>\n",
       "      <td>375.600006</td>\n",
       "      <td>375.799988</td>\n",
       "      <td>382.399994</td>\n",
       "      <td>13991006.0</td>\n",
       "      <td>380.297546</td>\n",
       "      <td>48.870719</td>\n",
       "    </tr>\n",
       "    <tr>\n",
       "      <th>2020-01-03</th>\n",
       "      <td>390.000000</td>\n",
       "      <td>381.200012</td>\n",
       "      <td>388.000000</td>\n",
       "      <td>383.000000</td>\n",
       "      <td>15313106.0</td>\n",
       "      <td>380.894257</td>\n",
       "      <td>48.947400</td>\n",
       "    </tr>\n",
       "    <tr>\n",
       "      <th>2020-01-06</th>\n",
       "      <td>380.000000</td>\n",
       "      <td>375.399994</td>\n",
       "      <td>380.000000</td>\n",
       "      <td>377.399994</td>\n",
       "      <td>12123194.0</td>\n",
       "      <td>375.325012</td>\n",
       "      <td>48.231719</td>\n",
       "    </tr>\n",
       "    <tr>\n",
       "      <th>2020-01-07</th>\n",
       "      <td>387.799988</td>\n",
       "      <td>380.000000</td>\n",
       "      <td>380.799988</td>\n",
       "      <td>385.600006</td>\n",
       "      <td>17686346.0</td>\n",
       "      <td>383.479980</td>\n",
       "      <td>49.279681</td>\n",
       "    </tr>\n",
       "    <tr>\n",
       "      <th>2020-01-08</th>\n",
       "      <td>385.799988</td>\n",
       "      <td>379.200012</td>\n",
       "      <td>382.399994</td>\n",
       "      <td>382.000000</td>\n",
       "      <td>15529153.0</td>\n",
       "      <td>379.899750</td>\n",
       "      <td>48.819600</td>\n",
       "    </tr>\n",
       "  </tbody>\n",
       "</table>\n",
       "</div>"
      ],
      "text/plain": [
       "                  High         Low        Open       Close      Volume  \\\n",
       "Date                                                                     \n",
       "2020-01-02  384.799988  375.600006  375.799988  382.399994  13991006.0   \n",
       "2020-01-03  390.000000  381.200012  388.000000  383.000000  15313106.0   \n",
       "2020-01-06  380.000000  375.399994  380.000000  377.399994  12123194.0   \n",
       "2020-01-07  387.799988  380.000000  380.799988  385.600006  17686346.0   \n",
       "2020-01-08  385.799988  379.200012  382.399994  382.000000  15529153.0   \n",
       "\n",
       "             Adj Close  Close_dollar  \n",
       "Date                                  \n",
       "2020-01-02  380.297546     48.870719  \n",
       "2020-01-03  380.894257     48.947400  \n",
       "2020-01-06  375.325012     48.231719  \n",
       "2020-01-07  383.479980     49.279681  \n",
       "2020-01-08  379.899750     48.819600  "
      ]
     },
     "execution_count": 50,
     "metadata": {},
     "output_type": "execute_result"
    }
   ],
   "source": [
    "#腾讯是港股，所以这里的收盘价是港币，按照今天的汇率将其转化为美元\n",
    "exchange=0.1278 #港币兑换美元的汇率，这个值可以根据在网上查到当天的最新汇率\n",
    "#为了方便后期多家公司的股价比较，增加新的一列收盘价（美元）\n",
    "txDf['Close_dollar']= txDf['Close']* exchange\n",
    "txDf.head()"
   ]
  },
  {
   "cell_type": "code",
   "execution_count": 52,
   "metadata": {},
   "outputs": [
    {
     "name": "stdout",
     "output_type": "stream",
     "text": [
      "股票累计上涨= 48.01255466369493 %\n"
     ]
    }
   ],
   "source": [
    "#累计涨幅\n",
    "closeCol=txDf['Close']\n",
    "txChange=change(closeCol)"
   ]
  },
  {
   "cell_type": "markdown",
   "metadata": {},
   "source": [
    "# 数据可视化"
   ]
  },
  {
   "cell_type": "code",
   "execution_count": 65,
   "metadata": {},
   "outputs": [],
   "source": [
    "%matplotlib inline\n",
    "#导入可视化包\n",
    "import matplotlib.pyplot as plt"
   ]
  },
  {
   "cell_type": "code",
   "execution_count": 66,
   "metadata": {},
   "outputs": [
    {
     "data": {
      "text/html": [
       "<div>\n",
       "<style scoped>\n",
       "    .dataframe tbody tr th:only-of-type {\n",
       "        vertical-align: middle;\n",
       "    }\n",
       "\n",
       "    .dataframe tbody tr th {\n",
       "        vertical-align: top;\n",
       "    }\n",
       "\n",
       "    .dataframe thead th {\n",
       "        text-align: right;\n",
       "    }\n",
       "</style>\n",
       "<table border=\"1\" class=\"dataframe\">\n",
       "  <thead>\n",
       "    <tr style=\"text-align: right;\">\n",
       "      <th></th>\n",
       "      <th>High</th>\n",
       "      <th>Low</th>\n",
       "      <th>Open</th>\n",
       "      <th>Close</th>\n",
       "      <th>Volume</th>\n",
       "      <th>Adj Close</th>\n",
       "    </tr>\n",
       "    <tr>\n",
       "      <th>Date</th>\n",
       "      <th></th>\n",
       "      <th></th>\n",
       "      <th></th>\n",
       "      <th></th>\n",
       "      <th></th>\n",
       "      <th></th>\n",
       "    </tr>\n",
       "  </thead>\n",
       "  <tbody>\n",
       "    <tr>\n",
       "      <th>2019-12-31</th>\n",
       "      <td>213.639999</td>\n",
       "      <td>210.729996</td>\n",
       "      <td>212.000000</td>\n",
       "      <td>212.100006</td>\n",
       "      <td>6773600</td>\n",
       "      <td>212.100006</td>\n",
       "    </tr>\n",
       "    <tr>\n",
       "      <th>2020-01-02</th>\n",
       "      <td>219.979996</td>\n",
       "      <td>216.539993</td>\n",
       "      <td>216.600006</td>\n",
       "      <td>219.770004</td>\n",
       "      <td>15873500</td>\n",
       "      <td>219.770004</td>\n",
       "    </tr>\n",
       "    <tr>\n",
       "      <th>2020-01-03</th>\n",
       "      <td>218.203003</td>\n",
       "      <td>216.009995</td>\n",
       "      <td>216.350006</td>\n",
       "      <td>217.000000</td>\n",
       "      <td>8604500</td>\n",
       "      <td>217.000000</td>\n",
       "    </tr>\n",
       "    <tr>\n",
       "      <th>2020-01-06</th>\n",
       "      <td>217.160004</td>\n",
       "      <td>214.089996</td>\n",
       "      <td>214.889999</td>\n",
       "      <td>216.639999</td>\n",
       "      <td>11885500</td>\n",
       "      <td>216.639999</td>\n",
       "    </tr>\n",
       "    <tr>\n",
       "      <th>2020-01-07</th>\n",
       "      <td>218.940002</td>\n",
       "      <td>216.690002</td>\n",
       "      <td>217.639999</td>\n",
       "      <td>217.630005</td>\n",
       "      <td>9388000</td>\n",
       "      <td>217.630005</td>\n",
       "    </tr>\n",
       "  </tbody>\n",
       "</table>\n",
       "</div>"
      ],
      "text/plain": [
       "                  High         Low        Open       Close    Volume  \\\n",
       "Date                                                                   \n",
       "2019-12-31  213.639999  210.729996  212.000000  212.100006   6773600   \n",
       "2020-01-02  219.979996  216.539993  216.600006  219.770004  15873500   \n",
       "2020-01-03  218.203003  216.009995  216.350006  217.000000   8604500   \n",
       "2020-01-06  217.160004  214.089996  214.889999  216.639999  11885500   \n",
       "2020-01-07  218.940002  216.690002  217.639999  217.630005   9388000   \n",
       "\n",
       "             Adj Close  \n",
       "Date                    \n",
       "2019-12-31  212.100006  \n",
       "2020-01-02  219.770004  \n",
       "2020-01-03  217.000000  \n",
       "2020-01-06  216.639999  \n",
       "2020-01-07  217.630005  "
      ]
     },
     "execution_count": 66,
     "metadata": {},
     "output_type": "execute_result"
    }
   ],
   "source": [
    "#将索引中x坐标轴转化成时间序列\n",
    "babaDf.reset_index(inplace=True)\n",
    "babaDf.set_index('Date',inplace=True)\n",
    "#查看索引重置是否成功\n",
    "babaDf.head()"
   ]
  },
  {
   "cell_type": "code",
   "execution_count": 67,
   "metadata": {},
   "outputs": [
    {
     "data": {
      "image/png": "[encoded data removed]",
      "text/plain": [
       "<Figure size 432x288 with 1 Axes>"
      ]
     },
     "metadata": {
      "needs_background": "light"
     },
     "output_type": "display_data"
    }
   ],
   "source": [
    "babaDf.plot(use_index=True, #此时不能直接用x值，会直接访问index.values的值，即数字类型，而不是时间类型\n",
    "            y='Close')\n",
    "#x坐标轴文本\n",
    "plt.xlabel('时间')\n",
    "#y坐标轴\n",
    "plt.ylabel('股价（美元）')\n",
    "#图片标题\n",
    "plt.title('2020年阿里巴巴股价走势')\n",
    "#显示网格\n",
    "plt.grid(True)\n",
    "#显示图形\n",
    "plt.show()"
   ]
  },
  {
   "cell_type": "markdown",
   "metadata": {},
   "source": [
    "### 散点图：成交量和股价"
   ]
  },
  {
   "cell_type": "code",
   "execution_count": 68,
   "metadata": {},
   "outputs": [
    {
     "data": {
      "image/png": "[encoded data removed]",
      "text/plain": [
       "<Figure size 432x288 with 1 Axes>"
      ]
     },
     "metadata": {
      "needs_background": "light"
     },
     "output_type": "display_data"
    }
   ],
   "source": [
    "'''我们给plot传入的横轴x坐标轴数据成交量这一列的数据，\n",
    "纵轴y坐标轴数据是收盘价这一列的数据，\n",
    "同时增加了一个参数叫kind这个值表示绘制图形的类型，这里的值等于scatter表示绘制散点图。\n",
    "kind取值（图形类型）参考官方文档：http://pandas.pydata.org/pandas-docs/stable/visualization.html\n",
    "kind取值  图形类型\n",
    "  无        折线图\n",
    "scatter     散点图\n",
    "bar         柱状图\n",
    "box         箱线图\n",
    "hist        直方图\n",
    "pie         饼状图\n",
    "area        面积图\n",
    "'''\n",
    "babaDf.plot(x='Volume',y='Close',kind='scatter')\n",
    "#x坐标轴文本\n",
    "plt.xlabel('成交量')\n",
    "#y坐标轴文本\n",
    "plt.ylabel('股价（美元）')\n",
    "#图片标题\n",
    "plt.title('成交量和股价')\n",
    "#显示网格\n",
    "plt.grid(True)\n",
    "#显示图形\n",
    "plt.show()"
   ]
  },
  {
   "cell_type": "markdown",
   "metadata": {},
   "source": [
    "### 相关系数矩阵"
   ]
  },
  {
   "cell_type": "code",
   "execution_count": 69,
   "metadata": {},
   "outputs": [
    {
     "data": {
      "text/html": [
       "<div>\n",
       "<style scoped>\n",
       "    .dataframe tbody tr th:only-of-type {\n",
       "        vertical-align: middle;\n",
       "    }\n",
       "\n",
       "    .dataframe tbody tr th {\n",
       "        vertical-align: top;\n",
       "    }\n",
       "\n",
       "    .dataframe thead th {\n",
       "        text-align: right;\n",
       "    }\n",
       "</style>\n",
       "<table border=\"1\" class=\"dataframe\">\n",
       "  <thead>\n",
       "    <tr style=\"text-align: right;\">\n",
       "      <th></th>\n",
       "      <th>High</th>\n",
       "      <th>Low</th>\n",
       "      <th>Open</th>\n",
       "      <th>Close</th>\n",
       "      <th>Volume</th>\n",
       "      <th>Adj Close</th>\n",
       "    </tr>\n",
       "  </thead>\n",
       "  <tbody>\n",
       "    <tr>\n",
       "      <th>High</th>\n",
       "      <td>1.000000</td>\n",
       "      <td>0.996920</td>\n",
       "      <td>0.997134</td>\n",
       "      <td>0.997804</td>\n",
       "      <td>-0.101619</td>\n",
       "      <td>0.997804</td>\n",
       "    </tr>\n",
       "    <tr>\n",
       "      <th>Low</th>\n",
       "      <td>0.996920</td>\n",
       "      <td>1.000000</td>\n",
       "      <td>0.996914</td>\n",
       "      <td>0.997516</td>\n",
       "      <td>-0.148405</td>\n",
       "      <td>0.997516</td>\n",
       "    </tr>\n",
       "    <tr>\n",
       "      <th>Open</th>\n",
       "      <td>0.997134</td>\n",
       "      <td>0.996914</td>\n",
       "      <td>1.000000</td>\n",
       "      <td>0.994319</td>\n",
       "      <td>-0.117809</td>\n",
       "      <td>0.994319</td>\n",
       "    </tr>\n",
       "    <tr>\n",
       "      <th>Close</th>\n",
       "      <td>0.997804</td>\n",
       "      <td>0.997516</td>\n",
       "      <td>0.994319</td>\n",
       "      <td>1.000000</td>\n",
       "      <td>-0.122003</td>\n",
       "      <td>1.000000</td>\n",
       "    </tr>\n",
       "    <tr>\n",
       "      <th>Volume</th>\n",
       "      <td>-0.101619</td>\n",
       "      <td>-0.148405</td>\n",
       "      <td>-0.117809</td>\n",
       "      <td>-0.122003</td>\n",
       "      <td>1.000000</td>\n",
       "      <td>-0.122003</td>\n",
       "    </tr>\n",
       "    <tr>\n",
       "      <th>Adj Close</th>\n",
       "      <td>0.997804</td>\n",
       "      <td>0.997516</td>\n",
       "      <td>0.994319</td>\n",
       "      <td>1.000000</td>\n",
       "      <td>-0.122003</td>\n",
       "      <td>1.000000</td>\n",
       "    </tr>\n",
       "  </tbody>\n",
       "</table>\n",
       "</div>"
      ],
      "text/plain": [
       "               High       Low      Open     Close    Volume  Adj Close\n",
       "High       1.000000  0.996920  0.997134  0.997804 -0.101619   0.997804\n",
       "Low        0.996920  1.000000  0.996914  0.997516 -0.148405   0.997516\n",
       "Open       0.997134  0.996914  1.000000  0.994319 -0.117809   0.994319\n",
       "Close      0.997804  0.997516  0.994319  1.000000 -0.122003   1.000000\n",
       "Volume    -0.101619 -0.148405 -0.117809 -0.122003  1.000000  -0.122003\n",
       "Adj Close  0.997804  0.997516  0.994319  1.000000 -0.122003   1.000000"
      ]
     },
     "execution_count": 69,
     "metadata": {},
     "output_type": "execute_result"
    }
   ],
   "source": [
    "babaDf.corr()"
   ]
  },
  {
   "cell_type": "markdown",
   "metadata": {},
   "source": [
    "### GAFATA股价走势比较"
   ]
  },
  {
   "cell_type": "code",
   "execution_count": 74,
   "metadata": {},
   "outputs": [
    {
     "data": {
      "image/png": "[encoded data removed]",
      "text/plain": [
       "<Figure size 432x288 with 1 Axes>"
      ]
     },
     "metadata": {
      "needs_background": "light"
     },
     "output_type": "display_data"
    }
   ],
   "source": [
    "#绘制goggle的画纸,通过指定画纸ax，在同一张画纸上绘图\n",
    "ax1=googDf.plot(use_index=True,y='Close',label='谷歌')\n",
    "#亚马逊\n",
    "amazDf.plot(ax=ax1,y='Close',label='亚马逊')\n",
    "#阿里巴巴\n",
    "babaDf.plot(ax=ax1,y='Close',label='Facebook')\n",
    "#苹果\n",
    "AppDf.plot(ax=ax1,y='Close',label='Apple')\n",
    "#Facebook\n",
    "FbDf.plot(ax=ax1,y='Close',label='阿里巴巴')\n",
    "#腾讯\n",
    "txDf.plot(ax=ax1,y='Close_dollar',label='腾讯')\n",
    "#x坐标轴文本\n",
    "plt.xlabel('时间')\n",
    "#y坐标轴文本\n",
    "plt.ylabel('股价（美元）')\n",
    "#图片标题\n",
    "plt.title('2020年GAFATA股价走势比较')\n",
    "#显示网格\n",
    "plt.grid(True)\n",
    "plt.show()"
   ]
  },
  {
   "cell_type": "markdown",
   "metadata": {},
   "source": [
    "因为谷歌和亚马逊的股价比较高，造成我们看不出其他4家公司的股票走势。 所以根据股价我们可以将这6家公司分成2组，一组是股价较高的谷歌和亚马逊。另外一组是股价较低的4家公司。"
   ]
  },
  {
   "cell_type": "code",
   "execution_count": 75,
   "metadata": {},
   "outputs": [
    {
     "data": {
      "image/png": "[encoded data removed]",
      "text/plain": [
       "<Figure size 432x288 with 1 Axes>"
      ]
     },
     "metadata": {
      "needs_background": "light"
     },
     "output_type": "display_data"
    }
   ],
   "source": [
    "'''\n",
    "第一组：谷歌，亚马逊\n",
    "'''\n",
    "#绘制goggle的画纸,通过指定画纸ax，在同一张画纸上绘图\n",
    "ax2=googDf.plot(use_index=True,y='Close',label='谷歌')\n",
    "#亚马逊\n",
    "amazDf.plot(ax=ax2,y='Close',label='亚马逊')\n",
    "#x坐标轴文本\n",
    "plt.xlabel('时间')\n",
    "#y坐标轴文本\n",
    "plt.ylabel('股价（美元）')\n",
    "#图片标题\n",
    "plt.title('2020年谷歌和亚马逊股价走势比较')\n",
    "#显示网格\n",
    "plt.grid(True)\n",
    "plt.show()"
   ]
  },
  {
   "cell_type": "code",
   "execution_count": 79,
   "metadata": {},
   "outputs": [
    {
     "data": {
      "image/png": "[encoded data removed]",
      "text/plain": [
       "<Figure size 432x288 with 1 Axes>"
      ]
     },
     "metadata": {
      "needs_background": "light"
     },
     "output_type": "display_data"
    }
   ],
   "source": [
    "'''\n",
    "第二组：苹果，阿里巴巴，Facebook,腾讯\n",
    "'''\n",
    "#绘制苹果的画纸,通过指定画纸ax，在同一张画纸上绘图\n",
    "ax3=AppDf.plot(use_index=True,y='Close',label='苹果')\n",
    "#阿里巴巴\n",
    "babaDf.plot(ax=ax3,y='Close',label='阿里巴巴')\n",
    "#Facebook\n",
    "FbDf.plot(ax=ax3,y='Close',label='Facebook')\n",
    "#腾讯\n",
    "txDf.plot(ax=ax3,y='Close_dollar',label='腾讯')\n",
    "#x坐标轴文本\n",
    "plt.xlabel('时间')\n",
    "#y坐标轴文本\n",
    "plt.ylabel('股价（美元）')\n",
    "#图片标题\n",
    "plt.title('2020年4家股价走势比较')\n",
    "#显示网格\n",
    "plt.grid(True)\n",
    "plt.show()"
   ]
  },
  {
   "cell_type": "markdown",
   "metadata": {},
   "source": [
    "### 柱状图：这六家公司的平均值"
   ]
  },
  {
   "cell_type": "code",
   "execution_count": 83,
   "metadata": {},
   "outputs": [
    {
     "data": {
      "image/png": "[encoded data removed]",
      "text/plain": [
       "<Figure size 432x288 with 1 Axes>"
      ]
     },
     "metadata": {
      "needs_background": "light"
     },
     "output_type": "display_data"
    }
   ],
   "source": [
    "#6家公司股票收盘平均值\n",
    "gafataMeanList=[googDf['Close'].mean(),amazDf['Close'].mean(),\n",
    "                FbDf['Close'].mean(),AppDf['Close'].mean(),\n",
    "                babaDf['Close'].mean(),txDf['Close_dollar'].mean()]\n",
    "\n",
    "#创建pandas一维数组Series\n",
    "gafataMeanSer=pd.Series(gafataMeanList,index=['谷歌','亚马逊','Facebook','苹果','阿里巴巴','腾讯'])\n",
    "gafataMeanSer.plot(kind='bar',label='GAFATA')\n",
    "#图片标题\n",
    "plt.title('2020年GAFATA股价平均值')\n",
    "#x轴文本\n",
    "plt.xlabel('公司名称')\n",
    "#y轴文本\n",
    "plt.ylabel('股价平均值（美元）')\n",
    "plt.grid(True)\n",
    "plt.show()"
   ]
  },
  {
   "cell_type": "code",
   "execution_count": null,
   "metadata": {},
   "outputs": [],
   "source": [
    "分析结果：可以看出，仅从股票价格上来判断，亚马逊和谷歌的股票价格要远远的超过了其他四家。\n",
    "但是这里只是算的平均值，下面我们看下用四分位数绘制的箱线图\n"
   ]
  },
  {
   "cell_type": "code",
   "execution_count": 102,
   "metadata": {},
   "outputs": [
    {
     "data": {
      "text/html": [
       "<div>\n",
       "<style scoped>\n",
       "    .dataframe tbody tr th:only-of-type {\n",
       "        vertical-align: middle;\n",
       "    }\n",
       "\n",
       "    .dataframe tbody tr th {\n",
       "        vertical-align: top;\n",
       "    }\n",
       "\n",
       "    .dataframe thead th {\n",
       "        text-align: right;\n",
       "    }\n",
       "</style>\n",
       "<table border=\"1\" class=\"dataframe\">\n",
       "  <thead>\n",
       "    <tr style=\"text-align: right;\">\n",
       "      <th></th>\n",
       "      <th>谷歌</th>\n",
       "      <th>亚马逊</th>\n",
       "      <th>Facebook</th>\n",
       "      <th>苹果</th>\n",
       "      <th>腾讯</th>\n",
       "      <th>阿里巴巴</th>\n",
       "    </tr>\n",
       "  </thead>\n",
       "  <tbody>\n",
       "    <tr>\n",
       "      <th>2019-12-31 00:00:00</th>\n",
       "      <td>1337.020020</td>\n",
       "      <td>1847.839966</td>\n",
       "      <td>205.250000</td>\n",
       "      <td>73.412498</td>\n",
       "      <td>212.100006</td>\n",
       "      <td>NaN</td>\n",
       "    </tr>\n",
       "    <tr>\n",
       "      <th>2020-01-02 00:00:00</th>\n",
       "      <td>1367.369995</td>\n",
       "      <td>1898.010010</td>\n",
       "      <td>209.779999</td>\n",
       "      <td>75.087502</td>\n",
       "      <td>219.770004</td>\n",
       "      <td>48.870719</td>\n",
       "    </tr>\n",
       "    <tr>\n",
       "      <th>2020-01-03 00:00:00</th>\n",
       "      <td>1360.660034</td>\n",
       "      <td>1874.969971</td>\n",
       "      <td>208.669998</td>\n",
       "      <td>74.357498</td>\n",
       "      <td>217.000000</td>\n",
       "      <td>48.947400</td>\n",
       "    </tr>\n",
       "    <tr>\n",
       "      <th>2020-01-06 00:00:00</th>\n",
       "      <td>1394.209961</td>\n",
       "      <td>1902.880005</td>\n",
       "      <td>212.600006</td>\n",
       "      <td>74.949997</td>\n",
       "      <td>216.639999</td>\n",
       "      <td>48.231719</td>\n",
       "    </tr>\n",
       "    <tr>\n",
       "      <th>2020-01-07 00:00:00</th>\n",
       "      <td>1393.339966</td>\n",
       "      <td>1906.859985</td>\n",
       "      <td>213.059998</td>\n",
       "      <td>74.597504</td>\n",
       "      <td>217.630005</td>\n",
       "      <td>49.279681</td>\n",
       "    </tr>\n",
       "  </tbody>\n",
       "</table>\n",
       "</div>"
      ],
      "text/plain": [
       "                              谷歌          亚马逊    Facebook         苹果  \\\n",
       "2019-12-31 00:00:00  1337.020020  1847.839966  205.250000  73.412498   \n",
       "2020-01-02 00:00:00  1367.369995  1898.010010  209.779999  75.087502   \n",
       "2020-01-03 00:00:00  1360.660034  1874.969971  208.669998  74.357498   \n",
       "2020-01-06 00:00:00  1394.209961  1902.880005  212.600006  74.949997   \n",
       "2020-01-07 00:00:00  1393.339966  1906.859985  213.059998  74.597504   \n",
       "\n",
       "                             腾讯       阿里巴巴  \n",
       "2019-12-31 00:00:00  212.100006        NaN  \n",
       "2020-01-02 00:00:00  219.770004  48.870719  \n",
       "2020-01-03 00:00:00  217.000000  48.947400  \n",
       "2020-01-06 00:00:00  216.639999  48.231719  \n",
       "2020-01-07 00:00:00  217.630005  49.279681  "
      ]
     },
     "execution_count": 102,
     "metadata": {},
     "output_type": "execute_result"
    }
   ],
   "source": [
    "#存放6家公司的收盘价\n",
    "closeDf=pd.DataFrame()\n",
    "#合并6家公司的收盘价\n",
    "closeDf=pd.concat([closeDf,googDf['Close'],\n",
    "                   amazDf['Close'],\n",
    "                  FbDf['Close'],\n",
    "                  AppDf['Close'],\n",
    "                   babaDf['Close'],\n",
    "                   txDf['Close_dollar']\n",
    "                  ],axis=1)\n",
    "#重命名列名为公司名称\n",
    "closeDf.columns=['谷歌','亚马逊','Facebook','苹果','腾讯','阿里巴巴']\n",
    "closeDf.head()                   "
   ]
  },
  {
   "cell_type": "code",
   "execution_count": 96,
   "metadata": {},
   "outputs": [
    {
     "data": {
      "image/png": "[encoded data removed]",
      "text/plain": [
       "<Figure size 432x288 with 1 Axes>"
      ]
     },
     "metadata": {
      "needs_background": "light"
     },
     "output_type": "display_data"
    }
   ],
   "source": [
    "#箱线图\n",
    "closeDf.plot(kind='box')\n",
    "plt.grid(True)\n",
    "plt.show()"
   ]
  },
  {
   "cell_type": "markdown",
   "metadata": {},
   "source": [
    "![0](images/0.jpg)"
   ]
  },
  {
   "cell_type": "code",
   "execution_count": null,
   "metadata": {},
   "outputs": [],
   "source": []
  }
 ],
 "metadata": {
  "kernelspec": {
   "display_name": "Python 3",
   "language": "python",
   "name": "python3"
  },
  "language_info": {
   "codemirror_mode": {
    "name": "ipython",
    "version": 3
   },
   "file_extension": ".py",
   "mimetype": "text/x-python",
   "name": "python",
   "nbconvert_exporter": "python",
   "pygments_lexer": "ipython3",
   "version": "3.8.3"
  }
 },
 "nbformat": 4,
 "nbformat_minor": 4
}
